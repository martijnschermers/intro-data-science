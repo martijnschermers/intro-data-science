{
 "cells": [
  {
   "cell_type": "markdown",
   "id": "8268700c",
   "metadata": {},
   "source": [
    "### Portfolio assignment 8\n",
    "15 min: \n",
    "- Calculate the 90%, 95%, 99% and 99.99% confidence interval for at least 2 columns with numerical data in the dataset that you chose in portfolio assignment 4. Do you see the impact the confidence has on the interval?\n",
    "- Now calculate the 95% confidence interval again but use only the first 10% of your rows. Compare this interval to the previous 95% confidence interval you calculated. Do you see the impact of having less data?"
   ]
  },
  {
   "cell_type": "code",
   "execution_count": 1,
   "id": "626dde50",
   "metadata": {},
   "outputs": [],
   "source": [
    "import pandas as pd\n",
    "import scipy.stats as st"
   ]
  },
  {
   "cell_type": "code",
   "execution_count": 8,
   "id": "5ca3912b",
   "metadata": {},
   "outputs": [],
   "source": [
    "vehicles = pd.read_csv('../datasets/vehicles.csv', sep=',')"
   ]
  },
  {
   "cell_type": "code",
   "execution_count": 9,
   "id": "bab64679",
   "metadata": {},
   "outputs": [
    {
     "data": {
      "text/plain": [
       "(26693.160446653637, 231050.5086494282)"
      ]
     },
     "execution_count": 9,
     "metadata": {},
     "output_type": "execute_result"
    }
   ],
   "source": [
    "# Confidence intervals voor 'price'\n",
    "\n",
    "confidence = 0.90\n",
    "st.t.interval(confidence, len(vehicles)-1, loc=vehicles['price'].mean(), scale=st.sem(vehicles['price']))"
   ]
  },
  {
   "cell_type": "code",
   "execution_count": 45,
   "id": "58454974",
   "metadata": {},
   "outputs": [
    {
     "data": {
      "text/plain": [
       "(7094.529715229786, 250649.1393808521)"
      ]
     },
     "execution_count": 45,
     "metadata": {},
     "output_type": "execute_result"
    }
   ],
   "source": [
    "confidence = 0.95\n",
    "st.t.interval(confidence, (len(vehicles) - 1) / 10, loc=vehicles['price'].mean(), scale=st.sem(vehicles['price']))"
   ]
  },
  {
   "cell_type": "code",
   "execution_count": 46,
   "id": "b20aced9",
   "metadata": {},
   "outputs": [
    {
     "data": {
      "text/plain": [
       "(-130343.97911194444, 553182.799273518)"
      ]
     },
     "execution_count": 46,
     "metadata": {},
     "output_type": "execute_result"
    }
   ],
   "source": [
    "# Berekening met eerste 10% van de rijen voor 'price'\n",
    "# De range wordt vergroot in dit geval. \n",
    "\n",
    "confidence = 0.95\n",
    "sliced_vehicles = vehicles[:int(len(vehicles) / 10)]\n",
    "st.t.interval(confidence, len(sliced_vehicles) - 1, loc=sliced_vehicles['price'].mean(), scale=st.sem(sliced_vehicles['price']))"
   ]
  },
  {
   "cell_type": "code",
   "execution_count": 11,
   "id": "11e2120c",
   "metadata": {},
   "outputs": [
    {
     "data": {
      "text/plain": [
       "(-31142.01680660418, 288885.6859026861)"
      ]
     },
     "execution_count": 11,
     "metadata": {},
     "output_type": "execute_result"
    }
   ],
   "source": [
    "confidence = 0.99\n",
    "st.t.interval(confidence, len(vehicles)-1, loc=vehicles['price'].mean(), scale=st.sem(vehicles['price']))"
   ]
  },
  {
   "cell_type": "code",
   "execution_count": 12,
   "id": "72188019",
   "metadata": {},
   "outputs": [
    {
     "data": {
      "text/plain": [
       "(-112825.79298066311, 370569.462076745)"
      ]
     },
     "execution_count": 12,
     "metadata": {},
     "output_type": "execute_result"
    }
   ],
   "source": [
    "confidence = 0.9999\n",
    "st.t.interval(confidence, len(vehicles)-1, loc=vehicles['price'].mean(), scale=st.sem(vehicles['price']))"
   ]
  },
  {
   "cell_type": "code",
   "execution_count": 25,
   "id": "896cf28f",
   "metadata": {},
   "outputs": [
    {
     "data": {
      "text/plain": [
       "(94337.47641189129, 97971.35228419627)"
      ]
     },
     "execution_count": 25,
     "metadata": {},
     "output_type": "execute_result"
    }
   ],
   "source": [
    "# Confidence intervals voor 'odometer' (kilometerstand)\n",
    "\n",
    "confidence = 0.90\n",
    "st.t.interval(confidence, len(vehicles)-1, loc=vehicles['odometer'].mean(), scale=st.sem(vehicles['odometer'].fillna(0).astype('int')))"
   ]
  },
  {
   "cell_type": "code",
   "execution_count": 48,
   "id": "7a772b5a",
   "metadata": {},
   "outputs": [
    {
     "data": {
      "text/plain": [
       "(93989.38846394126, 98319.4402321463)"
      ]
     },
     "execution_count": 48,
     "metadata": {},
     "output_type": "execute_result"
    }
   ],
   "source": [
    "confidence = 0.95\n",
    "st.t.interval(confidence, len(vehicles)-1, loc=vehicles['odometer'].mean(), scale=st.sem(vehicles['odometer'].fillna(0).astype('int')))"
   ]
  },
  {
   "cell_type": "code",
   "execution_count": 47,
   "id": "adeb55ae",
   "metadata": {},
   "outputs": [
    {
     "data": {
      "text/plain": [
       "(111434.33431974788, 141990.85243897047)"
      ]
     },
     "execution_count": 47,
     "metadata": {},
     "output_type": "execute_result"
    }
   ],
   "source": [
    "# Berekening met eerste 10% van de rijen voor 'odometer'\n",
    "# De range schuift op en wordt groter in dit geval.\n",
    "\n",
    "confidence = 0.95\n",
    "sliced_vehicles = vehicles[:int(len(vehicles) / 10)]\n",
    "st.t.interval(confidence, len(sliced_vehicles) - 1, loc=sliced_vehicles['odometer'].mean(), scale=st.sem(sliced_vehicles['odometer'].fillna(0).astype('int')))"
   ]
  },
  {
   "cell_type": "code",
   "execution_count": 27,
   "id": "7edfc4d0",
   "metadata": {},
   "outputs": [
    {
     "data": {
      "text/plain": [
       "(93309.05312768153, 98999.77556840602)"
      ]
     },
     "execution_count": 27,
     "metadata": {},
     "output_type": "execute_result"
    }
   ],
   "source": [
    "confidence = 0.99\n",
    "st.t.interval(confidence, len(vehicles)-1, loc=vehicles['odometer'].mean(), scale=st.sem(vehicles['odometer'].fillna(0).astype('int')))"
   ]
  },
  {
   "cell_type": "code",
   "execution_count": 38,
   "id": "39cb5342",
   "metadata": {},
   "outputs": [
    {
     "data": {
      "text/plain": [
       "(91856.55481524923, 100452.27388083833)"
      ]
     },
     "execution_count": 38,
     "metadata": {},
     "output_type": "execute_result"
    }
   ],
   "source": [
    "confidence = 0.9999\n",
    "st.t.interval(confidence, len(vehicles)-1, loc=vehicles['odometer'].mean(), scale=st.sem(vehicles['odometer'].fillna(0).astype('int')))"
   ]
  }
 ],
 "metadata": {
  "kernelspec": {
   "display_name": "Python 3 (ipykernel)",
   "language": "python",
   "name": "python3"
  },
  "language_info": {
   "codemirror_mode": {
    "name": "ipython",
    "version": 3
   },
   "file_extension": ".py",
   "mimetype": "text/x-python",
   "name": "python",
   "nbconvert_exporter": "python",
   "pygments_lexer": "ipython3",
   "version": "3.9.13"
  }
 },
 "nbformat": 4,
 "nbformat_minor": 5
}
