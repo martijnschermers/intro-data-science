{
 "cells": [
  {
   "cell_type": "markdown",
   "id": "08766fb9",
   "metadata": {},
   "source": [
    "### Portfolio assignment 10\n",
    "15 min: Perform a bivariate analysis (Pearson correlation and scatter plot) on at least 1 combination of 2 columns with numeric data in the dataset that you chose in portfolio assignment 4. Does the correlation and scatter plot match your expectations? Add your answer to your notebook. Commit the Notebook to your portfolio when you're finished. "
   ]
  },
  {
   "cell_type": "code",
   "execution_count": 9,
   "id": "21ea5256",
   "metadata": {},
   "outputs": [],
   "source": [
    "import pandas as pd\n",
    "vehicles = pd.read_csv('../datasets/vehicles.csv', sep=',')\n",
    "vehicles = vehicles[vehicles[\"price\"] < 200000]"
   ]
  },
  {
   "cell_type": "code",
   "execution_count": 10,
   "id": "d7b222c2",
   "metadata": {},
   "outputs": [
    {
     "name": "stderr",
     "output_type": "stream",
     "text": [
      "/tmp/ipykernel_16660/442115444.py:2: FutureWarning: this method is deprecated in favour of `Styler.format(precision=..)`\n",
      "  vehicles_correlations.style.background_gradient(cmap='coolwarm', axis=None).set_precision(2)\n"
     ]
    },
    {
     "data": {
      "text/html": [
       "<style type=\"text/css\">\n",
       "#T_eea0a_row0_col0, #T_eea0a_row1_col1, #T_eea0a_row2_col2, #T_eea0a_row3_col3, #T_eea0a_row5_col5, #T_eea0a_row6_col6 {\n",
       "  background-color: #b40426;\n",
       "  color: #f1f1f1;\n",
       "}\n",
       "#T_eea0a_row0_col1, #T_eea0a_row1_col0 {\n",
       "  background-color: #b1cbfc;\n",
       "  color: #000000;\n",
       "}\n",
       "#T_eea0a_row0_col2, #T_eea0a_row2_col0 {\n",
       "  background-color: #b2ccfb;\n",
       "  color: #000000;\n",
       "}\n",
       "#T_eea0a_row0_col3, #T_eea0a_row3_col0 {\n",
       "  background-color: #bcd2f7;\n",
       "  color: #000000;\n",
       "}\n",
       "#T_eea0a_row0_col4, #T_eea0a_row1_col4, #T_eea0a_row2_col4, #T_eea0a_row3_col4, #T_eea0a_row4_col0, #T_eea0a_row4_col1, #T_eea0a_row4_col2, #T_eea0a_row4_col3, #T_eea0a_row4_col4, #T_eea0a_row4_col5, #T_eea0a_row4_col6, #T_eea0a_row5_col4, #T_eea0a_row6_col4 {\n",
       "  background-color: #000000;\n",
       "  color: #f1f1f1;\n",
       "}\n",
       "#T_eea0a_row0_col5, #T_eea0a_row5_col0 {\n",
       "  background-color: #a1c0ff;\n",
       "  color: #000000;\n",
       "}\n",
       "#T_eea0a_row0_col6, #T_eea0a_row1_col3, #T_eea0a_row3_col1, #T_eea0a_row6_col0 {\n",
       "  background-color: #a9c6fd;\n",
       "  color: #000000;\n",
       "}\n",
       "#T_eea0a_row1_col2, #T_eea0a_row2_col1 {\n",
       "  background-color: #e5d8d1;\n",
       "  color: #000000;\n",
       "}\n",
       "#T_eea0a_row1_col5, #T_eea0a_row5_col1 {\n",
       "  background-color: #cfdaea;\n",
       "  color: #000000;\n",
       "}\n",
       "#T_eea0a_row1_col6, #T_eea0a_row6_col1 {\n",
       "  background-color: #c9d7f0;\n",
       "  color: #000000;\n",
       "}\n",
       "#T_eea0a_row2_col3, #T_eea0a_row3_col2 {\n",
       "  background-color: #a6c4fe;\n",
       "  color: #000000;\n",
       "}\n",
       "#T_eea0a_row2_col5, #T_eea0a_row5_col2 {\n",
       "  background-color: #c6d6f1;\n",
       "  color: #000000;\n",
       "}\n",
       "#T_eea0a_row2_col6, #T_eea0a_row6_col2 {\n",
       "  background-color: #c7d7f0;\n",
       "  color: #000000;\n",
       "}\n",
       "#T_eea0a_row3_col5, #T_eea0a_row5_col3 {\n",
       "  background-color: #bed2f6;\n",
       "  color: #000000;\n",
       "}\n",
       "#T_eea0a_row3_col6, #T_eea0a_row6_col3 {\n",
       "  background-color: #c4d5f3;\n",
       "  color: #000000;\n",
       "}\n",
       "#T_eea0a_row5_col6, #T_eea0a_row6_col5 {\n",
       "  background-color: #3b4cc0;\n",
       "  color: #f1f1f1;\n",
       "}\n",
       "</style>\n",
       "<table id=\"T_eea0a\">\n",
       "  <thead>\n",
       "    <tr>\n",
       "      <th class=\"blank level0\" >&nbsp;</th>\n",
       "      <th id=\"T_eea0a_level0_col0\" class=\"col_heading level0 col0\" >id</th>\n",
       "      <th id=\"T_eea0a_level0_col1\" class=\"col_heading level0 col1\" >price</th>\n",
       "      <th id=\"T_eea0a_level0_col2\" class=\"col_heading level0 col2\" >year</th>\n",
       "      <th id=\"T_eea0a_level0_col3\" class=\"col_heading level0 col3\" >odometer</th>\n",
       "      <th id=\"T_eea0a_level0_col4\" class=\"col_heading level0 col4\" >county</th>\n",
       "      <th id=\"T_eea0a_level0_col5\" class=\"col_heading level0 col5\" >lat</th>\n",
       "      <th id=\"T_eea0a_level0_col6\" class=\"col_heading level0 col6\" >long</th>\n",
       "    </tr>\n",
       "  </thead>\n",
       "  <tbody>\n",
       "    <tr>\n",
       "      <th id=\"T_eea0a_level0_row0\" class=\"row_heading level0 row0\" >id</th>\n",
       "      <td id=\"T_eea0a_row0_col0\" class=\"data row0 col0\" >1.00</td>\n",
       "      <td id=\"T_eea0a_row0_col1\" class=\"data row0 col1\" >-0.08</td>\n",
       "      <td id=\"T_eea0a_row0_col2\" class=\"data row0 col2\" >-0.07</td>\n",
       "      <td id=\"T_eea0a_row0_col3\" class=\"data row0 col3\" >-0.02</td>\n",
       "      <td id=\"T_eea0a_row0_col4\" class=\"data row0 col4\" >nan</td>\n",
       "      <td id=\"T_eea0a_row0_col5\" class=\"data row0 col5\" >-0.16</td>\n",
       "      <td id=\"T_eea0a_row0_col6\" class=\"data row0 col6\" >-0.12</td>\n",
       "    </tr>\n",
       "    <tr>\n",
       "      <th id=\"T_eea0a_level0_row1\" class=\"row_heading level0 row1\" >price</th>\n",
       "      <td id=\"T_eea0a_row1_col0\" class=\"data row1 col0\" >-0.08</td>\n",
       "      <td id=\"T_eea0a_row1_col1\" class=\"data row1 col1\" >1.00</td>\n",
       "      <td id=\"T_eea0a_row1_col2\" class=\"data row1 col2\" >0.22</td>\n",
       "      <td id=\"T_eea0a_row1_col3\" class=\"data row1 col3\" >-0.12</td>\n",
       "      <td id=\"T_eea0a_row1_col4\" class=\"data row1 col4\" >nan</td>\n",
       "      <td id=\"T_eea0a_row1_col5\" class=\"data row1 col5\" >0.08</td>\n",
       "      <td id=\"T_eea0a_row1_col6\" class=\"data row1 col6\" >0.04</td>\n",
       "    </tr>\n",
       "    <tr>\n",
       "      <th id=\"T_eea0a_level0_row2\" class=\"row_heading level0 row2\" >year</th>\n",
       "      <td id=\"T_eea0a_row2_col0\" class=\"data row2 col0\" >-0.07</td>\n",
       "      <td id=\"T_eea0a_row2_col1\" class=\"data row2 col1\" >0.22</td>\n",
       "      <td id=\"T_eea0a_row2_col2\" class=\"data row2 col2\" >1.00</td>\n",
       "      <td id=\"T_eea0a_row2_col3\" class=\"data row2 col3\" >-0.13</td>\n",
       "      <td id=\"T_eea0a_row2_col4\" class=\"data row2 col4\" >nan</td>\n",
       "      <td id=\"T_eea0a_row2_col5\" class=\"data row2 col5\" >0.03</td>\n",
       "      <td id=\"T_eea0a_row2_col6\" class=\"data row2 col6\" >0.04</td>\n",
       "    </tr>\n",
       "    <tr>\n",
       "      <th id=\"T_eea0a_level0_row3\" class=\"row_heading level0 row3\" >odometer</th>\n",
       "      <td id=\"T_eea0a_row3_col0\" class=\"data row3 col0\" >-0.02</td>\n",
       "      <td id=\"T_eea0a_row3_col1\" class=\"data row3 col1\" >-0.12</td>\n",
       "      <td id=\"T_eea0a_row3_col2\" class=\"data row3 col2\" >-0.13</td>\n",
       "      <td id=\"T_eea0a_row3_col3\" class=\"data row3 col3\" >1.00</td>\n",
       "      <td id=\"T_eea0a_row3_col4\" class=\"data row3 col4\" >nan</td>\n",
       "      <td id=\"T_eea0a_row3_col5\" class=\"data row3 col5\" >-0.01</td>\n",
       "      <td id=\"T_eea0a_row3_col6\" class=\"data row3 col6\" >0.02</td>\n",
       "    </tr>\n",
       "    <tr>\n",
       "      <th id=\"T_eea0a_level0_row4\" class=\"row_heading level0 row4\" >county</th>\n",
       "      <td id=\"T_eea0a_row4_col0\" class=\"data row4 col0\" >nan</td>\n",
       "      <td id=\"T_eea0a_row4_col1\" class=\"data row4 col1\" >nan</td>\n",
       "      <td id=\"T_eea0a_row4_col2\" class=\"data row4 col2\" >nan</td>\n",
       "      <td id=\"T_eea0a_row4_col3\" class=\"data row4 col3\" >nan</td>\n",
       "      <td id=\"T_eea0a_row4_col4\" class=\"data row4 col4\" >nan</td>\n",
       "      <td id=\"T_eea0a_row4_col5\" class=\"data row4 col5\" >nan</td>\n",
       "      <td id=\"T_eea0a_row4_col6\" class=\"data row4 col6\" >nan</td>\n",
       "    </tr>\n",
       "    <tr>\n",
       "      <th id=\"T_eea0a_level0_row5\" class=\"row_heading level0 row5\" >lat</th>\n",
       "      <td id=\"T_eea0a_row5_col0\" class=\"data row5 col0\" >-0.16</td>\n",
       "      <td id=\"T_eea0a_row5_col1\" class=\"data row5 col1\" >0.08</td>\n",
       "      <td id=\"T_eea0a_row5_col2\" class=\"data row5 col2\" >0.03</td>\n",
       "      <td id=\"T_eea0a_row5_col3\" class=\"data row5 col3\" >-0.01</td>\n",
       "      <td id=\"T_eea0a_row5_col4\" class=\"data row5 col4\" >nan</td>\n",
       "      <td id=\"T_eea0a_row5_col5\" class=\"data row5 col5\" >1.00</td>\n",
       "      <td id=\"T_eea0a_row5_col6\" class=\"data row5 col6\" >-0.67</td>\n",
       "    </tr>\n",
       "    <tr>\n",
       "      <th id=\"T_eea0a_level0_row6\" class=\"row_heading level0 row6\" >long</th>\n",
       "      <td id=\"T_eea0a_row6_col0\" class=\"data row6 col0\" >-0.12</td>\n",
       "      <td id=\"T_eea0a_row6_col1\" class=\"data row6 col1\" >0.04</td>\n",
       "      <td id=\"T_eea0a_row6_col2\" class=\"data row6 col2\" >0.04</td>\n",
       "      <td id=\"T_eea0a_row6_col3\" class=\"data row6 col3\" >0.02</td>\n",
       "      <td id=\"T_eea0a_row6_col4\" class=\"data row6 col4\" >nan</td>\n",
       "      <td id=\"T_eea0a_row6_col5\" class=\"data row6 col5\" >-0.67</td>\n",
       "      <td id=\"T_eea0a_row6_col6\" class=\"data row6 col6\" >1.00</td>\n",
       "    </tr>\n",
       "  </tbody>\n",
       "</table>\n"
      ],
      "text/plain": [
       "<pandas.io.formats.style.Styler at 0x7fb012bf5f40>"
      ]
     },
     "execution_count": 10,
     "metadata": {},
     "output_type": "execute_result"
    }
   ],
   "source": [
    "vehicles_correlations = vehicles.corr()\n",
    "vehicles_correlations.style.background_gradient(cmap='coolwarm', axis=None).set_precision(2)"
   ]
  },
  {
   "cell_type": "code",
   "execution_count": 11,
   "id": "5bdfbddf",
   "metadata": {},
   "outputs": [
    {
     "data": {
      "text/html": [
       "<div>\n",
       "<style scoped>\n",
       "    .dataframe tbody tr th:only-of-type {\n",
       "        vertical-align: middle;\n",
       "    }\n",
       "\n",
       "    .dataframe tbody tr th {\n",
       "        vertical-align: top;\n",
       "    }\n",
       "\n",
       "    .dataframe thead th {\n",
       "        text-align: right;\n",
       "    }\n",
       "</style>\n",
       "<table border=\"1\" class=\"dataframe\">\n",
       "  <thead>\n",
       "    <tr style=\"text-align: right;\">\n",
       "      <th></th>\n",
       "      <th>year</th>\n",
       "      <th>price</th>\n",
       "    </tr>\n",
       "  </thead>\n",
       "  <tbody>\n",
       "    <tr>\n",
       "      <th>year</th>\n",
       "      <td>1.000000</td>\n",
       "      <td>0.219303</td>\n",
       "    </tr>\n",
       "    <tr>\n",
       "      <th>price</th>\n",
       "      <td>0.219303</td>\n",
       "      <td>1.000000</td>\n",
       "    </tr>\n",
       "  </tbody>\n",
       "</table>\n",
       "</div>"
      ],
      "text/plain": [
       "           year     price\n",
       "year   1.000000  0.219303\n",
       "price  0.219303  1.000000"
      ]
     },
     "execution_count": 11,
     "metadata": {},
     "output_type": "execute_result"
    }
   ],
   "source": [
    "# Correlation between 'year' and 'price'\n",
    "vehicles[['year','price']].corr()"
   ]
  },
  {
   "cell_type": "code",
   "execution_count": 12,
   "id": "9a66cdc3",
   "metadata": {},
   "outputs": [
    {
     "data": {
      "text/plain": [
       "<AxesSubplot:xlabel='year', ylabel='price'>"
      ]
     },
     "execution_count": 12,
     "metadata": {},
     "output_type": "execute_result"
    },
    {
     "data": {
      "image/png": "[encoded data removed]",
      "text/plain": [
       "<Figure size 640x480 with 1 Axes>"
      ]
     },
     "metadata": {},
     "output_type": "display_data"
    }
   ],
   "source": [
    "vehicles.plot(kind='scatter', x='year', y='price')"
   ]
  },
  {
   "cell_type": "markdown",
   "id": "28a17863",
   "metadata": {},
   "source": [
    "Ik had verwacht dat er wat meer oudere auto's zouden zijn die een hoge prijs hebben.  "
   ]
  }
 ],
 "metadata": {
  "kernelspec": {
   "display_name": "Python 3 (ipykernel)",
   "language": "python",
   "name": "python3"
  },
  "language_info": {
   "codemirror_mode": {
    "name": "ipython",
    "version": 3
   },
   "file_extension": ".py",
   "mimetype": "text/x-python",
   "name": "python",
   "nbconvert_exporter": "python",
   "pygments_lexer": "ipython3",
   "version": "3.9.13"
  }
 },
 "nbformat": 4,
 "nbformat_minor": 5
}
