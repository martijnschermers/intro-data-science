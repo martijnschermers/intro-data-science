{
 "cells": [
  {
   "cell_type": "markdown",
   "id": "a70bfebe",
   "metadata": {},
   "source": [
    "### Portfolio assignment 5\n",
    "20 min: \n",
    "- Download lifeExpectancyAtBirth.csv from Brightspace ([original source](https://www.kaggle.com/utkarshxy/who-worldhealth-statistics-2020-complete?select=lifeExpectancyAtBirth.csv)).\n",
    "- Move the file to the same folder as the Notebook that you will be working in.\n",
    "- Load the dataset in your Notebook with the following code: lifeExpectancy = pd.read_csv('lifeExpectancyAtBirth.csv', sep=',')\n",
    "- Look at the dataset with the .head() function.\n",
    "- Filter the dataframe: We only want the life expectancy data about 2019 and 'Both sexes'\n",
    "- Use this dataframe to perform a univariate analysis on the life expectancy in 2019.\n",
    "- Which five countries have the highest life expectancy? Which five the lowest?\n",
    "\n",
    "Commit the notebook and dataset to your portfolio when you're finished."
   ]
  },
  {
   "cell_type": "code",
   "execution_count": 3,
   "id": "e2abae7b",
   "metadata": {},
   "outputs": [],
   "source": [
    "import pandas as pd"
   ]
  },
  {
   "cell_type": "code",
   "execution_count": 4,
   "id": "b697c6c9",
   "metadata": {},
   "outputs": [],
   "source": [
    "lifeExpectancy = pd.read_csv('lifeExpectancyAtBirth.csv', sep=',')"
   ]
  },
  {
   "cell_type": "code",
   "execution_count": 6,
   "id": "e45f56d3",
   "metadata": {},
   "outputs": [
    {
     "data": {
      "text/html": [
       "<div>\n",
       "<style scoped>\n",
       "    .dataframe tbody tr th:only-of-type {\n",
       "        vertical-align: middle;\n",
       "    }\n",
       "\n",
       "    .dataframe tbody tr th {\n",
       "        vertical-align: top;\n",
       "    }\n",
       "\n",
       "    .dataframe thead th {\n",
       "        text-align: right;\n",
       "    }\n",
       "</style>\n",
       "<table border=\"1\" class=\"dataframe\">\n",
       "  <thead>\n",
       "    <tr style=\"text-align: right;\">\n",
       "      <th></th>\n",
       "      <th>Location</th>\n",
       "      <th>Period</th>\n",
       "      <th>Indicator</th>\n",
       "      <th>Dim1</th>\n",
       "      <th>First Tooltip</th>\n",
       "    </tr>\n",
       "  </thead>\n",
       "  <tbody>\n",
       "    <tr>\n",
       "      <th>0</th>\n",
       "      <td>Afghanistan</td>\n",
       "      <td>2019</td>\n",
       "      <td>Life expectancy at birth (years)</td>\n",
       "      <td>Both sexes</td>\n",
       "      <td>63.21</td>\n",
       "    </tr>\n",
       "    <tr>\n",
       "      <th>1</th>\n",
       "      <td>Afghanistan</td>\n",
       "      <td>2019</td>\n",
       "      <td>Life expectancy at birth (years)</td>\n",
       "      <td>Male</td>\n",
       "      <td>63.29</td>\n",
       "    </tr>\n",
       "    <tr>\n",
       "      <th>2</th>\n",
       "      <td>Afghanistan</td>\n",
       "      <td>2019</td>\n",
       "      <td>Life expectancy at birth (years)</td>\n",
       "      <td>Female</td>\n",
       "      <td>63.16</td>\n",
       "    </tr>\n",
       "    <tr>\n",
       "      <th>3</th>\n",
       "      <td>Afghanistan</td>\n",
       "      <td>2015</td>\n",
       "      <td>Life expectancy at birth (years)</td>\n",
       "      <td>Both sexes</td>\n",
       "      <td>61.65</td>\n",
       "    </tr>\n",
       "    <tr>\n",
       "      <th>4</th>\n",
       "      <td>Afghanistan</td>\n",
       "      <td>2015</td>\n",
       "      <td>Life expectancy at birth (years)</td>\n",
       "      <td>Male</td>\n",
       "      <td>61.04</td>\n",
       "    </tr>\n",
       "  </tbody>\n",
       "</table>\n",
       "</div>"
      ],
      "text/plain": [
       "      Location  Period                         Indicator        Dim1  \\\n",
       "0  Afghanistan    2019  Life expectancy at birth (years)  Both sexes   \n",
       "1  Afghanistan    2019  Life expectancy at birth (years)        Male   \n",
       "2  Afghanistan    2019  Life expectancy at birth (years)      Female   \n",
       "3  Afghanistan    2015  Life expectancy at birth (years)  Both sexes   \n",
       "4  Afghanistan    2015  Life expectancy at birth (years)        Male   \n",
       "\n",
       "   First Tooltip  \n",
       "0          63.21  \n",
       "1          63.29  \n",
       "2          63.16  \n",
       "3          61.65  \n",
       "4          61.04  "
      ]
     },
     "execution_count": 6,
     "metadata": {},
     "output_type": "execute_result"
    }
   ],
   "source": [
    "lifeExpectancy.head()"
   ]
  },
  {
   "cell_type": "code",
   "execution_count": 48,
   "id": "d4289491",
   "metadata": {},
   "outputs": [],
   "source": [
    "periodFilter = (lifeExpectancy['Period'] == 2019) & (lifeExpectancy['Dim1'] == 'Both sexes')\n",
    "filtered = lifeExpectancy[periodFilter]"
   ]
  },
  {
   "cell_type": "code",
   "execution_count": 49,
   "id": "99d7b7cb",
   "metadata": {},
   "outputs": [
    {
     "data": {
      "text/plain": [
       "72.54049180327873"
      ]
     },
     "execution_count": 49,
     "metadata": {},
     "output_type": "execute_result"
    }
   ],
   "source": [
    "filtered['First Tooltip'].mean()"
   ]
  },
  {
   "cell_type": "code",
   "execution_count": 69,
   "id": "497d950c",
   "metadata": {},
   "outputs": [
    {
     "data": {
      "text/plain": [
       "50.75"
      ]
     },
     "execution_count": 69,
     "metadata": {},
     "output_type": "execute_result"
    }
   ],
   "source": [
    "filtered['First Tooltip'].min()"
   ]
  },
  {
   "cell_type": "code",
   "execution_count": 70,
   "id": "785a1351",
   "metadata": {},
   "outputs": [
    {
     "data": {
      "text/plain": [
       "84.26"
      ]
     },
     "execution_count": 70,
     "metadata": {},
     "output_type": "execute_result"
    }
   ],
   "source": [
    "filtered['First Tooltip'].max()"
   ]
  },
  {
   "cell_type": "code",
   "execution_count": 50,
   "id": "fee4bef0",
   "metadata": {},
   "outputs": [
    {
     "data": {
      "text/plain": [
       "0    64.08\n",
       "1    65.25\n",
       "2    73.95\n",
       "3    75.81\n",
       "4    76.03\n",
       "5    76.44\n",
       "6    82.62\n",
       "7    83.22\n",
       "Name: First Tooltip, dtype: float64"
      ]
     },
     "execution_count": 50,
     "metadata": {},
     "output_type": "execute_result"
    }
   ],
   "source": [
    "filtered['First Tooltip'].mode()"
   ]
  },
  {
   "cell_type": "code",
   "execution_count": 51,
   "id": "4b4c3a22",
   "metadata": {},
   "outputs": [
    {
     "data": {
      "text/plain": [
       "73.74"
      ]
     },
     "execution_count": 51,
     "metadata": {},
     "output_type": "execute_result"
    }
   ],
   "source": [
    "filtered['First Tooltip'].median()"
   ]
  },
  {
   "cell_type": "code",
   "execution_count": 64,
   "id": "d8974c77",
   "metadata": {},
   "outputs": [
    {
     "data": {
      "text/plain": [
       "7.129956404370866"
      ]
     },
     "execution_count": 64,
     "metadata": {},
     "output_type": "execute_result"
    }
   ],
   "source": [
    "filtered['First Tooltip'].std()"
   ]
  },
  {
   "cell_type": "code",
   "execution_count": 71,
   "id": "43fa1e13",
   "metadata": {},
   "outputs": [
    {
     "data": {
      "text/plain": [
       "<AxesSubplot:ylabel='Frequency'>"
      ]
     },
     "execution_count": 71,
     "metadata": {},
     "output_type": "execute_result"
    },
    {
     "data": {
      "image/png": "[encoded data removed]",
      "text/plain": [
       "<Figure size 640x480 with 1 Axes>"
      ]
     },
     "metadata": {},
     "output_type": "display_data"
    }
   ],
   "source": [
    "filtered['First Tooltip'].plot(kind='hist')"
   ]
  },
  {
   "cell_type": "code",
   "execution_count": 53,
   "id": "6935bfab",
   "metadata": {},
   "outputs": [
    {
     "data": {
      "text/plain": [
       "<AxesSubplot:>"
      ]
     },
     "execution_count": 53,
     "metadata": {},
     "output_type": "execute_result"
    },
    {
     "data": {
      "image/png": "[encoded data removed]",
      "text/plain": [
       "<Figure size 640x480 with 1 Axes>"
      ]
     },
     "metadata": {},
     "output_type": "display_data"
    }
   ],
   "source": [
    "filtered['First Tooltip'].plot(kind='box')"
   ]
  },
  {
   "cell_type": "code",
   "execution_count": 65,
   "id": "8df9103a",
   "metadata": {},
   "outputs": [
    {
     "data": {
      "text/plain": [
       "1117                     Lesotho\n",
       "373     Central African Republic\n",
       "1801                     Somalia\n",
       "661                     Eswatini\n",
       "1333                  Mozambique\n",
       "Name: Location, dtype: object"
      ]
     },
     "execution_count": 65,
     "metadata": {},
     "output_type": "execute_result"
    }
   ],
   "source": [
    "filtered.nsmallest(5, 'First Tooltip')['Location']"
   ]
  },
  {
   "cell_type": "code",
   "execution_count": 66,
   "id": "101a764a",
   "metadata": {},
   "outputs": [
    {
     "data": {
      "text/plain": [
       "997                 Japan\n",
       "1897          Switzerland\n",
       "1573    Republic of Korea\n",
       "1753            Singapore\n",
       "1837                Spain\n",
       "Name: Location, dtype: object"
      ]
     },
     "execution_count": 66,
     "metadata": {},
     "output_type": "execute_result"
    }
   ],
   "source": [
    "filtered.nlargest(5, 'First Tooltip')['Location']"
   ]
  }
 ],
 "metadata": {
  "kernelspec": {
   "display_name": "Python 3 (ipykernel)",
   "language": "python",
   "name": "python3"
  },
  "language_info": {
   "codemirror_mode": {
    "name": "ipython",
    "version": 3
   },
   "file_extension": ".py",
   "mimetype": "text/x-python",
   "name": "python",
   "nbconvert_exporter": "python",
   "pygments_lexer": "ipython3",
   "version": "3.9.13"
  }
 },
 "nbformat": 4,
 "nbformat_minor": 5
}
